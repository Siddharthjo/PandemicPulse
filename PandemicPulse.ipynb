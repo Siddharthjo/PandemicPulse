{
 "cells": [
  {
   "cell_type": "markdown",
   "id": "d4c41318-27e3-4a71-9864-1990074a8a1d",
   "metadata": {},
   "source": [
    "PandemicPulse"
   ]
  },
  {
   "cell_type": "markdown",
   "id": "5a27104e-0583-4af2-a752-11b0d608a344",
   "metadata": {},
   "source": [
    "Siddharth Hiriyan\n",
    "21BTRCL101"
   ]
  },
  {
   "cell_type": "markdown",
   "id": "47d83089-3490-4250-a752-08aa4405fc75",
   "metadata": {},
   "source": [
    "Imports and Data Loading"
   ]
  },
  {
   "cell_type": "code",
   "execution_count": 4,
   "id": "8cad03d6-0fdb-4c14-ad91-f9820ea7a66e",
   "metadata": {},
   "outputs": [],
   "source": [
    "import pandas as pd\n",
    "import matplotlib.pyplot as plt\n",
    "import seaborn as sns\n",
    "\n",
    "# Load the dataset\n",
    "url = 'https://raw.githubusercontent.com/datasets/covid-19/main/data/countries-aggregated.csv'\n",
    "df = pd.read_csv(url)\n",
    "\n",
    "# Convert date column to datetime format\n",
    "df['Date'] = pd.to_datetime(df['Date'])\n"
   ]
  },
  {
   "cell_type": "markdown",
   "id": "96e2b5fd-01e0-47c4-a32f-af376e241bba",
   "metadata": {},
   "source": [
    "Global Trend of Confirmed Cases, Deaths, and Recoveries Over Time"
   ]
  },
  {
   "cell_type": "code",
   "execution_count": null,
   "id": "f9e60ef0-59b4-4beb-ba7c-de013584c85b",
   "metadata": {},
   "outputs": [
    {
     "name": "stderr",
     "output_type": "stream",
     "text": [
      "/opt/anaconda3/lib/python3.11/site-packages/seaborn/_oldcore.py:1119: FutureWarning: use_inf_as_na option is deprecated and will be removed in a future version. Convert inf values to NaN before operating instead.\n",
      "  with pd.option_context('mode.use_inf_as_na', True):\n",
      "/opt/anaconda3/lib/python3.11/site-packages/seaborn/_oldcore.py:1119: FutureWarning: use_inf_as_na option is deprecated and will be removed in a future version. Convert inf values to NaN before operating instead.\n",
      "  with pd.option_context('mode.use_inf_as_na', True):\n"
     ]
    }
   ],
   "source": [
    "plt.figure(figsize=(14, 7))\n",
    "sns.lineplot(data=df, x='Date', y='Confirmed', label='Confirmed Cases', color='blue')\n",
    "sns.lineplot(data=df, x='Date', y='Deaths', label='Deaths', color='red')\n",
    "sns.lineplot(data=df, x='Date', y='Recovered', label='Recovered', color='green')\n",
    "plt.title('Global COVID-19 Trends Over Time', fontsize=16)\n",
    "plt.xlabel('Date', fontsize=14)\n",
    "plt.ylabel('Number of Cases', fontsize=14)\n",
    "plt.legend(fontsize=12)\n",
    "plt.grid(True)\n",
    "plt.show()\n"
   ]
  },
  {
   "cell_type": "markdown",
   "id": "b32fc57a-fdf2-480c-8484-bb5e8de290e1",
   "metadata": {},
   "source": [
    "Which Country has the Highest Number of Confirmed Cases, Deaths, and Recoveries?"
   ]
  },
  {
   "cell_type": "code",
   "execution_count": null,
   "id": "d31be2a1-9187-459a-a9e0-8c64f202ecaa",
   "metadata": {},
   "outputs": [],
   "source": [
    "# Convert date column to datetime format\n",
    "df['Date'] = pd.to_datetime(df['Date'])# Aggregate data for the latest date\n",
    "latest_date = df['Date'].max()\n",
    "latest_data = df[df['Date'] == latest_date]\n",
    "\n",
    "# Country with the highest confirmed cases\n",
    "top_confirmed_country = latest_data.loc[latest_data['Confirmed'].idxmax(), 'Country']\n",
    "print(f\"Country with the highest confirmed cases as of {latest_date}: {top_confirmed_country}\")\n",
    "\n",
    "# Country with the highest deaths\n",
    "top_deaths_country = latest_data.loc[latest_data['Deaths'].idxmax(), 'Country']\n",
    "print(f\"Country with the highest deaths as of {latest_date}: {top_deaths_country}\")\n",
    "\n",
    "# Country with the highest recoveries\n",
    "top_recovered_country = latest_data.loc[latest_data['Recovered'].idxmax(), 'Country']\n",
    "print(f\"Country with the highest recoveries as of {latest_date}: {top_recovered_country}\")\n"
   ]
  },
  {
   "cell_type": "markdown",
   "id": "19f25592-e6d2-45f9-93ae-176c2597bdfd",
   "metadata": {},
   "source": [
    "Trends of Confirmed Cases in Top 5 Most Affected Countries"
   ]
  },
  {
   "cell_type": "code",
   "execution_count": null,
   "id": "1c33f5ec-10cb-44c6-884c-77b4af42e7c8",
   "metadata": {},
   "outputs": [],
   "source": [
    "# Identify top 5 countries by confirmed cases\n",
    "top_5_confirmed_countries = latest_data.sort_values(by='Confirmed', ascending=False).head(5)['Country'].tolist()\n",
    "\n",
    "# Plot trends for top 5 confirmed cases countries\n",
    "plt.figure(figsize=(14, 7))\n",
    "for country in top_5_confirmed_countries:\n",
    "    country_df = df[df['Country'] == country]\n",
    "    sns.lineplot(data=country_df, x='Date', y='Confirmed', label=country)\n",
    "plt.title('Trends of Confirmed Cases in Top 5 Countries', fontsize=16)\n",
    "plt.xlabel('Date', fontsize=14)\n",
    "plt.ylabel('Number of Confirmed Cases', fontsize=14)\n",
    "plt.legend(fontsize=12)\n",
    "plt.grid(True)\n",
    "plt.show()\n"
   ]
  },
  {
   "cell_type": "markdown",
   "id": "7bb57490-7bda-41ce-8782-5ddf9732db1e",
   "metadata": {},
   "source": [
    "Global Growth Rates of Confirmed Cases, Deaths, and Recoveries"
   ]
  },
  {
   "cell_type": "code",
   "execution_count": null,
   "id": "1d6b0def-30d3-4edc-981b-bbb12f60e980",
   "metadata": {},
   "outputs": [],
   "source": [
    "# Calculate daily change (growth rate) for each metric\n",
    "df['Confirmed Change'] = df.groupby('Country')['Confirmed'].diff().fillna(0)\n",
    "df['Deaths Change'] = df.groupby('Country')['Deaths'].diff().fillna(0)\n",
    "df['Recovered Change'] = df.groupby('Country')['Recovered'].diff().fillna(0)\n",
    "\n",
    "# Plot global growth rates\n",
    "plt.figure(figsize=(14, 7))\n",
    "sns.lineplot(data=df, x='Date', y='Confirmed Change', label='Confirmed Cases Change', color='blue')\n",
    "sns.lineplot(data=df, x='Date', y='Deaths Change', label='Deaths Change', color='red')\n",
    "sns.lineplot(data=df, x='Date', y='Recovered Change', label='Recovered Change', color='green')\n",
    "plt.title('Global COVID-19 Growth Rates Over Time', fontsize=16)\n",
    "plt.xlabel('Date', fontsize=14)\n",
    "plt.ylabel('Daily Change', fontsize=14)\n",
    "plt.legend(fontsize=12)\n",
    "plt.grid(True)\n",
    "plt.show()\n"
   ]
  },
  {
   "cell_type": "markdown",
   "id": "8f033b97-c177-4056-8925-e565a01361d9",
   "metadata": {},
   "source": [
    "Cumulative Confirmed Cases, Deaths, and Recoveries for Top 10 Countries"
   ]
  },
  {
   "cell_type": "code",
   "execution_count": null,
   "id": "72c5e985-73bc-4c04-b149-aab5d3882afd",
   "metadata": {},
   "outputs": [],
   "source": [
    "# Top 10 countries by confirmed cases\n",
    "top_10_countries = latest_data.sort_values(by='Confirmed', ascending=False).head(10)\n",
    "\n",
    "# Plot cumulative cases, deaths, and recoveries for top 10 countries\n",
    "plt.figure(figsize=(14, 7))\n",
    "sns.barplot(data=top_10_countries, x='Country', y='Confirmed', palette='Blues_d')\n",
    "plt.title('Cumulative Confirmed Cases for Top 10 Countries', fontsize=16)\n",
    "plt.xlabel('Country', fontsize=14)\n",
    "plt.ylabel('Number of Confirmed Cases', fontsize=14)\n",
    "plt.xticks(rotation=45, fontsize=12)\n",
    "plt.yticks(fontsize=12)\n",
    "plt.grid(True)\n",
    "plt.show()\n",
    "\n",
    "plt.figure(figsize=(14, 7))\n",
    "sns.barplot(data=top_10_countries, x='Country', y='Deaths', palette='Reds_d')\n",
    "plt.title('Cumulative Deaths for Top 10 Countries', fontsize=16)\n",
    "plt.xlabel('Country', fontsize=14)\n",
    "plt.ylabel('Number of Deaths', fontsize=14)\n",
    "plt.xticks(rotation=45, fontsize=12)\n",
    "plt.yticks(fontsize=12)\n",
    "plt.grid(True)\n",
    "plt.show()\n",
    "\n",
    "plt.figure(figsize=(14, 7))\n",
    "sns.barplot(data=top_10_countries, x='Country', y='Recovered', palette='Greens_d')\n",
    "plt.title('Cumulative Recoveries for Top 10 Countries', fontsize=16)\n",
    "plt.xlabel('Country', fontsize=14)\n",
    "plt.ylabel('Number of Recoveries', fontsize=14)\n",
    "plt.xticks(rotation=45, fontsize=12)\n",
    "plt.yticks(fontsize=12)\n",
    "plt.grid(True)\n",
    "plt.show()\n"
   ]
  },
  {
   "cell_type": "markdown",
   "id": "034349ea-d660-432d-a244-17ac83df09e5",
   "metadata": {},
   "source": [
    "Recovery Rate Comparison Across Different Countries"
   ]
  },
  {
   "cell_type": "code",
   "execution_count": null,
   "id": "ef1e5fc2-e147-49a5-8381-9373604c5142",
   "metadata": {},
   "outputs": [],
   "source": [
    "# Calculate recovery rate as a percentage for top 10 countries\n",
    "top_10_countries['Recovery Rate'] = (top_10_countries['Recovered'] / top_10_countries['Confirmed']) * 100\n",
    "\n",
    "# Plot recovery rate for top 10 countries\n",
    "plt.figure(figsize=(14, 7))\n",
    "sns.barplot(data=top_10_countries, x='Country', y='Recovery Rate', palette='YlGnBu')\n",
    "plt.title('Recovery Rate (%) for Top 10 Countries', fontsize=16)\n",
    "plt.xlabel('Country', fontsize=14)\n",
    "plt.ylabel('Recovery Rate (%)', fontsize=14)\n",
    "plt.xticks(rotation=45, fontsize=12)\n",
    "plt.yticks(fontsize=12)\n",
    "plt.grid(True)\n",
    "plt.show()\n"
   ]
  },
  {
   "cell_type": "markdown",
   "id": "34536461-0f5c-49a5-b5eb-33e835310904",
   "metadata": {},
   "source": [
    "Correlation Between Confirmed Cases, Deaths, and Recoveries Globally"
   ]
  },
  {
   "cell_type": "code",
   "execution_count": null,
   "id": "8037280e-dbca-4cca-9b07-ce2036f651b4",
   "metadata": {},
   "outputs": [],
   "source": [
    "# Calculate correlation matrix\n",
    "correlation_matrix = df[['Confirmed', 'Deaths', 'Recovered']].corr()\n",
    "\n",
    "# Visualize the correlation matrix using a heatmap\n",
    "plt.figure(figsize=(10, 8))\n",
    "sns.heatmap(correlation_matrix, annot=True, cmap='coolwarm', linewidths=0.5)\n",
    "plt.title('Correlation Matrix', fontsize=16)\n",
    "plt.xticks(fontsize=12)\n",
    "plt.yticks(fontsize=12)\n",
    "plt.show()\n"
   ]
  },
  {
   "cell_type": "markdown",
   "id": "fd54bf7c-b5bf-49ae-a3c9-6e315c4024de",
   "metadata": {},
   "source": [
    "Distribution of Confirmed Cases, Deaths, and Recoveries by Continent"
   ]
  },
  {
   "cell_type": "code",
   "execution_count": null,
   "id": "aa03d726-90fe-4e96-8fbf-b732cabb5510",
   "metadata": {},
   "outputs": [],
   "source": [
    "# region mapping with more countries\n",
    "region_mapping = {\n",
    "    'Europe': ['Germany', 'France', 'Italy', 'Spain', 'United Kingdom', 'Russia', 'Turkey','Netherlands'],\n",
    "    'Asia': ['China', 'India', 'Pakistan', 'Indonesia', 'Thailand', 'Vietnam''Japan', 'South Korea', 'Iran', 'Saudi Arabia'],\n",
    "    'North America': ['US', 'Canada', 'Mexico', 'Brazil'],\n",
    "    'Africa': ['South Africa', 'Nigeria', 'Egypt', 'Morocco', 'Kenya'],\n",
    "    'Oceania': ['Australia', 'New Zealand'],\n",
    "    'South America': ['Argentina', 'Chile', 'Peru', 'Colombia'],\n",
    "\n",
    "}\n",
    "\n",
    "# Create a new column 'Region' based on the mapping\n",
    "df['Region'] = df['Country'].apply(lambda x: next((region for region, countries in region_mapping.items() if x in countries), 'Other'))\n",
    "\n",
    "# Convert Date column to datetime format\n",
    "df['Date'] = pd.to_datetime(df['Date'])\n",
    "\n",
    "# Aggregate data by region\n",
    "region_data = df.groupby('Region').agg({\n",
    "    'Confirmed': 'sum',\n",
    "    'Deaths': 'sum',\n",
    "    'Recovered': 'sum'\n",
    "}).reset_index()"
   ]
  },
  {
   "cell_type": "code",
   "execution_count": null,
   "id": "6876ed02-1dd8-44a5-9b08-67a382d8af79",
   "metadata": {},
   "outputs": [],
   "source": [
    "# Plot distribution of confirmed cases by region\n",
    "plt.figure(figsize=(12, 8))\n",
    "sns.boxplot(data=df, x='Region', y='Confirmed', palette='Set3')\n",
    "plt.title('Distribution of Confirmed Cases by Continent', fontsize=16)\n",
    "plt.xlabel('Continent', fontsize=14)\n",
    "plt.ylabel('Number of Confirmed Cases', fontsize=14)\n",
    "plt.xticks(fontsize=12, rotation=45)\n",
    "plt.yticks(fontsize=12)\n",
    "plt.grid(True)\n",
    "plt.show()"
   ]
  },
  {
   "cell_type": "code",
   "execution_count": null,
   "id": "62035acc-bfc3-4396-b03f-feeee4c75095",
   "metadata": {},
   "outputs": [],
   "source": [
    "# Plot distribution of deaths by region (assuming 'Region' is correct)\n",
    "plt.figure(figsize=(10, 6))\n",
    "sns.boxplot(data=df, x='Region', y='Deaths', palette='Set3')\n",
    "plt.title('Distribution of Deaths by Region', fontsize=16)\n",
    "plt.xlabel('Region', fontsize=14)\n",
    "plt.ylabel('Number of Deaths', fontsize=14)\n",
    "plt.xticks(fontsize=12, rotation=45)\n",
    "plt.yticks(fontsize=12)\n",
    "plt.grid(True)\n",
    "plt.show()"
   ]
  },
  {
   "cell_type": "code",
   "execution_count": null,
   "id": "0db5a2e5-284c-430e-b268-702962df3405",
   "metadata": {},
   "outputs": [],
   "source": []
  },
  {
   "cell_type": "code",
   "execution_count": null,
   "id": "bd1e10e2-002e-44a7-a4a5-cd8d15949a9a",
   "metadata": {},
   "outputs": [],
   "source": []
  },
  {
   "cell_type": "code",
   "execution_count": null,
   "id": "4e0964e4-ed81-49fb-b1db-2e3676b2c44d",
   "metadata": {},
   "outputs": [],
   "source": []
  },
  {
   "cell_type": "code",
   "execution_count": null,
   "id": "31067cdb-9c0e-4b4c-b98c-98879ddec752",
   "metadata": {},
   "outputs": [],
   "source": []
  }
 ],
 "metadata": {
  "kernelspec": {
   "display_name": "Python 3 (ipykernel)",
   "language": "python",
   "name": "python3"
  },
  "language_info": {
   "codemirror_mode": {
    "name": "ipython",
    "version": 3
   },
   "file_extension": ".py",
   "mimetype": "text/x-python",
   "name": "python",
   "nbconvert_exporter": "python",
   "pygments_lexer": "ipython3",
   "version": "3.11.7"
  }
 },
 "nbformat": 4,
 "nbformat_minor": 5
}
